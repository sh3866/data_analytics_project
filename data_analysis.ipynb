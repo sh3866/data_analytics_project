{
 "cells": [
  {
   "cell_type": "code",
   "execution_count": 1,
   "metadata": {
    "id": "FoNL0_rEysp9"
   },
   "outputs": [],
   "source": [
    "import pandas as pd\n",
    "import numpy as np\n",
    "import matplotlib\n",
    "import matplotlib.pyplot as plt\n",
    "import re"
   ]
  },
  {
   "cell_type": "code",
   "execution_count": 2,
   "metadata": {
    "colab": {
     "base_uri": "https://localhost:8080/",
     "height": 553
    },
    "id": "SGQfLMgIzRdN",
    "outputId": "8e572973-202c-4836-f747-25f322274fc1"
   },
   "outputs": [
    {
     "data": {
      "text/html": [
       "<div>\n",
       "<style scoped>\n",
       "    .dataframe tbody tr th:only-of-type {\n",
       "        vertical-align: middle;\n",
       "    }\n",
       "\n",
       "    .dataframe tbody tr th {\n",
       "        vertical-align: top;\n",
       "    }\n",
       "\n",
       "    .dataframe thead th {\n",
       "        text-align: right;\n",
       "    }\n",
       "</style>\n",
       "<table border=\"1\" class=\"dataframe\">\n",
       "  <thead>\n",
       "    <tr style=\"text-align: right;\">\n",
       "      <th></th>\n",
       "      <th>출원번호</th>\n",
       "      <th>출원일자</th>\n",
       "      <th>공개번호</th>\n",
       "      <th>공개일자</th>\n",
       "      <th>공고번호</th>\n",
       "      <th>공고일자</th>\n",
       "      <th>등록번호</th>\n",
       "      <th>등록일자</th>\n",
       "      <th>발명의명칭</th>\n",
       "      <th>IPC분류</th>\n",
       "      <th>출원인</th>\n",
       "      <th>발명자/고안자</th>\n",
       "      <th>대리인</th>\n",
       "    </tr>\n",
       "    <tr>\n",
       "      <th>국가</th>\n",
       "      <th></th>\n",
       "      <th></th>\n",
       "      <th></th>\n",
       "      <th></th>\n",
       "      <th></th>\n",
       "      <th></th>\n",
       "      <th></th>\n",
       "      <th></th>\n",
       "      <th></th>\n",
       "      <th></th>\n",
       "      <th></th>\n",
       "      <th></th>\n",
       "      <th></th>\n",
       "    </tr>\n",
       "  </thead>\n",
       "  <tbody>\n",
       "    <tr>\n",
       "      <th>US</th>\n",
       "      <td>17085698</td>\n",
       "      <td>2020.10.30</td>\n",
       "      <td>2.021024e+10</td>\n",
       "      <td>2021.8.12</td>\n",
       "      <td>11382820</td>\n",
       "      <td>2022.7.12</td>\n",
       "      <td>11382820</td>\n",
       "      <td>2022.7.12</td>\n",
       "      <td>Stair assist cane</td>\n",
       "      <td>A61H3/00</td>\n",
       "      <td>William Hood English,Norman Earl Smith, II</td>\n",
       "      <td>William Hood English,Norman Earl Smith, II</td>\n",
       "      <td>Williams Intellectual Property,Timothy Snyder</td>\n",
       "    </tr>\n",
       "    <tr>\n",
       "      <th>US</th>\n",
       "      <td>16731700</td>\n",
       "      <td>2019.12.31</td>\n",
       "      <td>2.020021e+10</td>\n",
       "      <td>2020.7.2</td>\n",
       "      <td>11426323</td>\n",
       "      <td>2022.8.30</td>\n",
       "      <td>11426323</td>\n",
       "      <td>2022.8.30</td>\n",
       "      <td>Multi-functional foot crutch</td>\n",
       "      <td>A61H3/02,A45B9/04,A61H3/00</td>\n",
       "      <td>Joint Project Limited</td>\n",
       "      <td>Gillian Thies</td>\n",
       "      <td>Morgan, Lewis &amp;#x26; Bockius LLP</td>\n",
       "    </tr>\n",
       "    <tr>\n",
       "      <th>US</th>\n",
       "      <td>16593293</td>\n",
       "      <td>2019.10.4</td>\n",
       "      <td>2.021013e+10</td>\n",
       "      <td>2021.5.6</td>\n",
       "      <td>11554072</td>\n",
       "      <td>2023.1.17</td>\n",
       "      <td>11554072</td>\n",
       "      <td>2023.1.17</td>\n",
       "      <td>Smart sensor cane</td>\n",
       "      <td>A61H3/06</td>\n",
       "      <td>Carmelo Roman</td>\n",
       "      <td>Carmelo Roman</td>\n",
       "      <td>McCarter &amp;#x26; English, LLP</td>\n",
       "    </tr>\n",
       "    <tr>\n",
       "      <th>US</th>\n",
       "      <td>17376746</td>\n",
       "      <td>2021.7.15</td>\n",
       "      <td>NaN</td>\n",
       "      <td>NaN</td>\n",
       "      <td>11564465</td>\n",
       "      <td>2023.1.31</td>\n",
       "      <td>11564465</td>\n",
       "      <td>2023.1.31</td>\n",
       "      <td>Cane with a leg strap</td>\n",
       "      <td>A45B9/00,A45B3/04,A45B3/02,A45B9/02,A45B9/04</td>\n",
       "      <td>Michael Hale</td>\n",
       "      <td>Michael Hale</td>\n",
       "      <td>Sanchelima &amp;#x26; Associates, P.A.,Christian S...</td>\n",
       "    </tr>\n",
       "    <tr>\n",
       "      <th>US</th>\n",
       "      <td>17145145</td>\n",
       "      <td>2021.1.8</td>\n",
       "      <td>2.021023e+10</td>\n",
       "      <td>2021.7.29</td>\n",
       "      <td>11774248</td>\n",
       "      <td>2023.10.3</td>\n",
       "      <td>11774248</td>\n",
       "      <td>2023.10.3</td>\n",
       "      <td>Systems and methods for performing inclusive i...</td>\n",
       "      <td>G01C21/20,G06V20/20,H04W4/024</td>\n",
       "      <td>Tata Consultancy Services Limited</td>\n",
       "      <td>Charudatta Jadhav,Govind Rajput,Achampet Harsh...</td>\n",
       "      <td>Finnegan, Henderson, Farabow, Garrett &amp;#x26; D...</td>\n",
       "    </tr>\n",
       "  </tbody>\n",
       "</table>\n",
       "</div>"
      ],
      "text/plain": [
       "        출원번호        출원일자          공개번호       공개일자      공고번호       공고일자  \\\n",
       "국가                                                                       \n",
       "US  17085698  2020.10.30  2.021024e+10  2021.8.12  11382820  2022.7.12   \n",
       "US  16731700  2019.12.31  2.020021e+10   2020.7.2  11426323  2022.8.30   \n",
       "US  16593293   2019.10.4  2.021013e+10   2021.5.6  11554072  2023.1.17   \n",
       "US  17376746   2021.7.15           NaN        NaN  11564465  2023.1.31   \n",
       "US  17145145    2021.1.8  2.021023e+10  2021.7.29  11774248  2023.10.3   \n",
       "\n",
       "        등록번호       등록일자                                              발명의명칭  \\\n",
       "국가                                                                           \n",
       "US  11382820  2022.7.12                                  Stair assist cane   \n",
       "US  11426323  2022.8.30                       Multi-functional foot crutch   \n",
       "US  11554072  2023.1.17                                  Smart sensor cane   \n",
       "US  11564465  2023.1.31                              Cane with a leg strap   \n",
       "US  11774248  2023.10.3  Systems and methods for performing inclusive i...   \n",
       "\n",
       "                                           IPC분류  \\\n",
       "국가                                                 \n",
       "US                                      A61H3/00   \n",
       "US                    A61H3/02,A45B9/04,A61H3/00   \n",
       "US                                      A61H3/06   \n",
       "US  A45B9/00,A45B3/04,A45B3/02,A45B9/02,A45B9/04   \n",
       "US                 G01C21/20,G06V20/20,H04W4/024   \n",
       "\n",
       "                                           출원인  \\\n",
       "국가                                               \n",
       "US  William Hood English,Norman Earl Smith, II   \n",
       "US                       Joint Project Limited   \n",
       "US                               Carmelo Roman   \n",
       "US                                Michael Hale   \n",
       "US           Tata Consultancy Services Limited   \n",
       "\n",
       "                                              발명자/고안자  \\\n",
       "국가                                                      \n",
       "US         William Hood English,Norman Earl Smith, II   \n",
       "US                                      Gillian Thies   \n",
       "US                                      Carmelo Roman   \n",
       "US                                       Michael Hale   \n",
       "US  Charudatta Jadhav,Govind Rajput,Achampet Harsh...   \n",
       "\n",
       "                                                  대리인  \n",
       "국가                                                     \n",
       "US      Williams Intellectual Property,Timothy Snyder  \n",
       "US                   Morgan, Lewis &#x26; Bockius LLP  \n",
       "US                       McCarter &#x26; English, LLP  \n",
       "US  Sanchelima &#x26; Associates, P.A.,Christian S...  \n",
       "US  Finnegan, Henderson, Farabow, Garrett &#x26; D...  "
      ]
     },
     "execution_count": 2,
     "metadata": {},
     "output_type": "execute_result"
    }
   ],
   "source": [
    "df = pd.read_csv(\"/Users/sunghyun/Desktop/data_model_change3.csv\", index_col=0)\n",
    "df.head()\n",
    "df.tail()"
   ]
  },
  {
   "cell_type": "code",
   "execution_count": 3,
   "metadata": {
    "colab": {
     "base_uri": "https://localhost:8080/"
    },
    "id": "JTG8ecwwzerj",
    "outputId": "caf60a6f-71ee-4a12-906f-67257ddb2b8f"
   },
   "outputs": [
    {
     "data": {
      "text/plain": [
       "출원번호         int64\n",
       "출원일자        object\n",
       "공개번호       float64\n",
       "공개일자        object\n",
       "공고번호        object\n",
       "공고일자        object\n",
       "등록번호        object\n",
       "등록일자        object\n",
       "발명의명칭       object\n",
       "IPC분류       object\n",
       "출원인         object\n",
       "발명자/고안자     object\n",
       "대리인         object\n",
       "dtype: object"
      ]
     },
     "execution_count": 3,
     "metadata": {},
     "output_type": "execute_result"
    }
   ],
   "source": [
    "df.dtypes\n"
   ]
  },
  {
   "cell_type": "code",
   "execution_count": 4,
   "metadata": {
    "colab": {
     "base_uri": "https://localhost:8080/"
    },
    "id": "-0mg81gozoLV",
    "outputId": "abe2c421-288f-461d-bc46-1fabcad1cd81"
   },
   "outputs": [
    {
     "name": "stdout",
     "output_type": "stream",
     "text": [
      "<class 'pandas.core.frame.DataFrame'>\n",
      "Index: 195 entries, US to US\n",
      "Data columns (total 13 columns):\n",
      " #   Column   Non-Null Count  Dtype  \n",
      "---  ------   --------------  -----  \n",
      " 0   출원번호     195 non-null    int64  \n",
      " 1   출원일자     195 non-null    object \n",
      " 2   공개번호     75 non-null     float64\n",
      " 3   공개일자     75 non-null     object \n",
      " 4   공고번호     195 non-null    object \n",
      " 5   공고일자     195 non-null    object \n",
      " 6   등록번호     195 non-null    object \n",
      " 7   등록일자     195 non-null    object \n",
      " 8   발명의명칭    195 non-null    object \n",
      " 9   IPC분류    195 non-null    object \n",
      " 10  출원인      114 non-null    object \n",
      " 11  발명자/고안자  195 non-null    object \n",
      " 12  대리인      169 non-null    object \n",
      "dtypes: float64(1), int64(1), object(11)\n",
      "memory usage: 21.3+ KB\n"
     ]
    }
   ],
   "source": [
    "df.info()"
   ]
  },
  {
   "cell_type": "code",
   "execution_count": 5,
   "metadata": {
    "id": "6V_yNddVzqI5"
   },
   "outputs": [],
   "source": [
    "df.drop(['공개번호', '공개일자', '공고번호', '등록번호', '발명자/고안자', '대리인'], axis=1, inplace=True)"
   ]
  },
  {
   "cell_type": "code",
   "execution_count": 6,
   "metadata": {
    "id": "JLOLeyG00HyS"
   },
   "outputs": [],
   "source": [
    "#등록 x + 등록완료\n",
    "df.dropna(subset=['출원일자', '출원인','IPC분류'], inplace=True)\n",
    "\n",
    "#등록 완료된 출원만 고른 버전\n",
    "df1 = df.dropna(subset=['등록일자'])"
   ]
  },
  {
   "cell_type": "code",
   "execution_count": 7,
   "metadata": {
    "colab": {
     "base_uri": "https://localhost:8080/"
    },
    "id": "ogI8X2L-0N5J",
    "outputId": "8263465e-c85a-40b1-ff21-cf4225829d59"
   },
   "outputs": [
    {
     "data": {
      "text/plain": [
       "(114, 7)"
      ]
     },
     "execution_count": 7,
     "metadata": {},
     "output_type": "execute_result"
    }
   ],
   "source": [
    "df.shape"
   ]
  },
  {
   "cell_type": "code",
   "execution_count": 8,
   "metadata": {
    "id": "_ab2fM8x0Pkd"
   },
   "outputs": [],
   "source": [
    "df['등록일자'] = df['등록일자'].str.extract('(\\d{4})')\n",
    "df['등록일자'] = pd.to_numeric(df['등록일자'])"
   ]
  },
  {
   "cell_type": "code",
   "execution_count": 9,
   "metadata": {
    "id": "woJ5TZGF0SwG"
   },
   "outputs": [],
   "source": [
    "df = df.sort_values(by='등록일자')"
   ]
  },
  {
   "cell_type": "code",
   "execution_count": 10,
   "metadata": {
    "colab": {
     "base_uri": "https://localhost:8080/",
     "height": 681
    },
    "id": "8LaioeVa0UPK",
    "outputId": "0aa1ac8c-b927-4f01-f3c3-358ea663c703"
   },
   "outputs": [
    {
     "data": {
      "text/html": [
       "<div>\n",
       "<style scoped>\n",
       "    .dataframe tbody tr th:only-of-type {\n",
       "        vertical-align: middle;\n",
       "    }\n",
       "\n",
       "    .dataframe tbody tr th {\n",
       "        vertical-align: top;\n",
       "    }\n",
       "\n",
       "    .dataframe thead th {\n",
       "        text-align: right;\n",
       "    }\n",
       "</style>\n",
       "<table border=\"1\" class=\"dataframe\">\n",
       "  <thead>\n",
       "    <tr style=\"text-align: right;\">\n",
       "      <th></th>\n",
       "      <th>출원번호</th>\n",
       "      <th>출원일자</th>\n",
       "      <th>공고일자</th>\n",
       "      <th>등록일자</th>\n",
       "      <th>발명의명칭</th>\n",
       "      <th>IPC분류</th>\n",
       "      <th>출원인</th>\n",
       "    </tr>\n",
       "    <tr>\n",
       "      <th>국가</th>\n",
       "      <th></th>\n",
       "      <th></th>\n",
       "      <th></th>\n",
       "      <th></th>\n",
       "      <th></th>\n",
       "      <th></th>\n",
       "      <th></th>\n",
       "    </tr>\n",
       "  </thead>\n",
       "  <tbody>\n",
       "    <tr>\n",
       "      <th>US</th>\n",
       "      <td>5372179</td>\n",
       "      <td>1973.6.21</td>\n",
       "      <td>1975.2.25</td>\n",
       "      <td>1975</td>\n",
       "      <td>AUXILIARY SKI FOR PHYSICALLY HANDICAPPED PERSONS</td>\n",
       "      <td>A63C11/22</td>\n",
       "      <td>Nippon Gakki Seizo Kabushiki Kaisha</td>\n",
       "    </tr>\n",
       "    <tr>\n",
       "      <th>US</th>\n",
       "      <td>6454985</td>\n",
       "      <td>1983.1.3</td>\n",
       "      <td>1985.4.9</td>\n",
       "      <td>1985</td>\n",
       "      <td>Height adjustable crutch</td>\n",
       "      <td>A61H3/02</td>\n",
       "      <td>Guardian Products Company, Inc.</td>\n",
       "    </tr>\n",
       "    <tr>\n",
       "      <th>US</th>\n",
       "      <td>6402594</td>\n",
       "      <td>1982.7.28</td>\n",
       "      <td>1985.4.16</td>\n",
       "      <td>1985</td>\n",
       "      <td>Resilient support foot for walking aids, parti...</td>\n",
       "      <td>A45B9/04</td>\n",
       "      <td>S &amp; F Orthopadietechnik GmbH</td>\n",
       "    </tr>\n",
       "    <tr>\n",
       "      <th>US</th>\n",
       "      <td>6472968</td>\n",
       "      <td>1983.3.7</td>\n",
       "      <td>1985.7.9</td>\n",
       "      <td>1985</td>\n",
       "      <td>Cane</td>\n",
       "      <td>A45B9/00,F16C11/10</td>\n",
       "      <td>Knotter; David G.</td>\n",
       "    </tr>\n",
       "    <tr>\n",
       "      <th>US</th>\n",
       "      <td>6438052</td>\n",
       "      <td>1982.11.1</td>\n",
       "      <td>1985.11.5</td>\n",
       "      <td>1985</td>\n",
       "      <td>Sonic ranging/detection system employing varie...</td>\n",
       "      <td>G01S15/14,G01S7/52</td>\n",
       "      <td>Polaroid Corporation</td>\n",
       "    </tr>\n",
       "    <tr>\n",
       "      <th>...</th>\n",
       "      <td>...</td>\n",
       "      <td>...</td>\n",
       "      <td>...</td>\n",
       "      <td>...</td>\n",
       "      <td>...</td>\n",
       "      <td>...</td>\n",
       "      <td>...</td>\n",
       "    </tr>\n",
       "    <tr>\n",
       "      <th>US</th>\n",
       "      <td>15119403</td>\n",
       "      <td>2015.3.31</td>\n",
       "      <td>2020.1.21</td>\n",
       "      <td>2020</td>\n",
       "      <td>Wearable robotic device</td>\n",
       "      <td>A61F5/01,A61H3/00,A61H1/02,B25J9/00,B25J9/10</td>\n",
       "      <td>Parker-Hannifin Corporation</td>\n",
       "    </tr>\n",
       "    <tr>\n",
       "      <th>US</th>\n",
       "      <td>16367406</td>\n",
       "      <td>2019.3.28</td>\n",
       "      <td>2020.6.2</td>\n",
       "      <td>2020</td>\n",
       "      <td>Motorized robotic walker guided by an image pr...</td>\n",
       "      <td>A61H3/04,G05D1/02,B60L50/52</td>\n",
       "      <td>THE BOARD OF TRUSTEES OF THE UNIVERSITY OF ALA...</td>\n",
       "    </tr>\n",
       "    <tr>\n",
       "      <th>US</th>\n",
       "      <td>16471276</td>\n",
       "      <td>2019.3.6</td>\n",
       "      <td>2021.9.7</td>\n",
       "      <td>2021</td>\n",
       "      <td>Illuminated walking assistance apparatus</td>\n",
       "      <td>A45B3/04,A45B9/02,F21L4/08,F21V9/08,F21V23/04,...</td>\n",
       "      <td>Ray Winn</td>\n",
       "    </tr>\n",
       "    <tr>\n",
       "      <th>US</th>\n",
       "      <td>17142542</td>\n",
       "      <td>2021.1.6</td>\n",
       "      <td>2021.9.7</td>\n",
       "      <td>2021</td>\n",
       "      <td>Illuminated walking assistance apparatus</td>\n",
       "      <td>A45B3/04,A61H3/00,F21V23/04,F21V9/08,A45B9/00</td>\n",
       "      <td>Ray Winn</td>\n",
       "    </tr>\n",
       "    <tr>\n",
       "      <th>US</th>\n",
       "      <td>16360724</td>\n",
       "      <td>2019.3.21</td>\n",
       "      <td>2021.9.7</td>\n",
       "      <td>2021</td>\n",
       "      <td>Wearable robotic device</td>\n",
       "      <td>A61H3/00,A61H1/02,B25J9/00,A61F5/01,B25J9/10</td>\n",
       "      <td>Parker-Hannifin Corporation</td>\n",
       "    </tr>\n",
       "  </tbody>\n",
       "</table>\n",
       "<p>100 rows × 7 columns</p>\n",
       "</div>"
      ],
      "text/plain": [
       "        출원번호       출원일자       공고일자  등록일자  \\\n",
       "국가                                         \n",
       "US   5372179  1973.6.21  1975.2.25  1975   \n",
       "US   6454985   1983.1.3   1985.4.9  1985   \n",
       "US   6402594  1982.7.28  1985.4.16  1985   \n",
       "US   6472968   1983.3.7   1985.7.9  1985   \n",
       "US   6438052  1982.11.1  1985.11.5  1985   \n",
       "..       ...        ...        ...   ...   \n",
       "US  15119403  2015.3.31  2020.1.21  2020   \n",
       "US  16367406  2019.3.28   2020.6.2  2020   \n",
       "US  16471276   2019.3.6   2021.9.7  2021   \n",
       "US  17142542   2021.1.6   2021.9.7  2021   \n",
       "US  16360724  2019.3.21   2021.9.7  2021   \n",
       "\n",
       "                                                발명의명칭  \\\n",
       "국가                                                      \n",
       "US   AUXILIARY SKI FOR PHYSICALLY HANDICAPPED PERSONS   \n",
       "US                           Height adjustable crutch   \n",
       "US  Resilient support foot for walking aids, parti...   \n",
       "US                                               Cane   \n",
       "US  Sonic ranging/detection system employing varie...   \n",
       "..                                                ...   \n",
       "US                            Wearable robotic device   \n",
       "US  Motorized robotic walker guided by an image pr...   \n",
       "US           Illuminated walking assistance apparatus   \n",
       "US           Illuminated walking assistance apparatus   \n",
       "US                            Wearable robotic device   \n",
       "\n",
       "                                                IPC분류  \\\n",
       "국가                                                      \n",
       "US                                          A63C11/22   \n",
       "US                                           A61H3/02   \n",
       "US                                           A45B9/04   \n",
       "US                                 A45B9/00,F16C11/10   \n",
       "US                                 G01S15/14,G01S7/52   \n",
       "..                                                ...   \n",
       "US       A61F5/01,A61H3/00,A61H1/02,B25J9/00,B25J9/10   \n",
       "US                        A61H3/04,G05D1/02,B60L50/52   \n",
       "US  A45B3/04,A45B9/02,F21L4/08,F21V9/08,F21V23/04,...   \n",
       "US      A45B3/04,A61H3/00,F21V23/04,F21V9/08,A45B9/00   \n",
       "US       A61H3/00,A61H1/02,B25J9/00,A61F5/01,B25J9/10   \n",
       "\n",
       "                                                  출원인  \n",
       "국가                                                     \n",
       "US                Nippon Gakki Seizo Kabushiki Kaisha  \n",
       "US                    Guardian Products Company, Inc.  \n",
       "US                       S & F Orthopadietechnik GmbH  \n",
       "US                                  Knotter; David G.  \n",
       "US                               Polaroid Corporation  \n",
       "..                                                ...  \n",
       "US                        Parker-Hannifin Corporation  \n",
       "US  THE BOARD OF TRUSTEES OF THE UNIVERSITY OF ALA...  \n",
       "US                                           Ray Winn  \n",
       "US                                           Ray Winn  \n",
       "US                        Parker-Hannifin Corporation  \n",
       "\n",
       "[100 rows x 7 columns]"
      ]
     },
     "execution_count": 10,
     "metadata": {},
     "output_type": "execute_result"
    }
   ],
   "source": [
    "df.head(100)"
   ]
  },
  {
   "cell_type": "code",
   "execution_count": 11,
   "metadata": {
    "colab": {
     "base_uri": "https://localhost:8080/"
    },
    "id": "stdC_hNG0Y44",
    "outputId": "5e5b42ac-bed1-4f97-cda3-303b65d50c32"
   },
   "outputs": [
    {
     "name": "stdout",
     "output_type": "stream",
     "text": [
      "['Nippon Gakki Seizo Kabushiki Kaisha' 'Guardian Products Company, Inc.'\n",
      " 'S & F Orthopadietechnik GmbH' 'Knotter; David G.' 'Polaroid Corporation'\n",
      " 'Lumex, Inc.'\n",
      " 'Honda Lock Manufacturing Co., Ltd.,Honda Giken Kogyo Kabushiki Kaisha'\n",
      " 'Americane, Inc.' 'Infutec Inc.' \"Children's Hospital\"\n",
      " 'Schilling-Ostermeyer Maschinenbau GmbH'\n",
      " 'Tubular Fabricators Industry, Inc.' 'Guardian Products, Inc.'\n",
      " 'Jacobson, II; Julius H.' 'FDI Francemedical'\n",
      " 'Sorrell Medical, Incorporated' 'Brookefield Hunter Incorporated'\n",
      " 'Summo; Michael W.' 'Profit Building Services, Inc.' 'Cane Enable, Inc.'\n",
      " 'Ohta Inc. (Ohta Kabushiki Kaisha)' 'Momentum Medical Corporation'\n",
      " 'Beyond Challenges LLC' 'Venetec International, Inc.' 'Edmund Trudell'\n",
      " 'Tessanie Marie Marek' 'Gladys Preston'\n",
      " 'David Pullman,Vernon T. Bechel,Steven L. Donaldson,John D. Camping'\n",
      " 'Kenneth E. J. Szekely' 'Robert D. Montgomery'\n",
      " 'Meng-Hui Hsu,Hsueh-Yu Chen,Bing-Hung Lin,Cheng-De Hong,Sheng-Wei Lin,Danver Wang'\n",
      " 'Robert J. Satterthwaite'\n",
      " 'John Christopher Barker,Patrick Arthur Kennedy' 'Thomas Edward Coe'\n",
      " 'Ralph O. Ortiz' 'Anahita Jamshidi' 'Phillip B. West' 'Charles Blake'\n",
      " 'Daniel Seth Meyers,Cristian Boar' 'M. William Hawkesworth'\n",
      " 'Derek Marlow Ewell,Jenny Diane Watters' 'Stephen Sundarrao'\n",
      " 'David P. Jacobs,Ishwor P. Adhikari' 'John Christopher Barker'\n",
      " 'Ronald M. Goldberg,Joseph Goldberg' 'Mary Ellen C. McKenna'\n",
      " 'Yasuhiro Ota,Masaru Ryumae,Keiichi Sato,Shin Sano' 'Glenn M. Willey'\n",
      " 'Colin Patrick Albertyn' 'Hans Westerlund' 'Ella M. Scott'\n",
      " 'Indian Institute of Science'\n",
      " 'Toyota Motor Engineering &#x26; Manufacturing North America, Inc.'\n",
      " 'Jonathan Louis Tolstedt,Maxwell Louis Tolstedt' 'Snapper Cane, LLC'\n",
      " 'Kinovita' 'Jim Widess' 'iWALKFree, Inc.' 'Regis C Moreau'\n",
      " 'Jos Van Houtem,Tobias Nilsson' 'Kurt A. Goszyk' 'Jerome E Sacks'\n",
      " 'Li-Sheng Chien,Chien-Chang Ho'\n",
      " 'The Board of Regents of the University of Texas System'\n",
      " 'Protostar, Inc., a Delaware Corporation' 'ReWalk Robotics Ltd.'\n",
      " 'Melba Terrell' 'Philip Smith' '&#xd6;ssur Iceland ehf'\n",
      " 'James D. Zimmerman' 'David Randel, Jr.' 'William Sosebee'\n",
      " 'David F. Dalury' 'Stephany Anglade' 'David M Frankel'\n",
      " 'Mobb Health Care Ltd Corporation' 'Touba Saharnaz Boushehri'\n",
      " 'Ohio State Innovation Foundation'\n",
      " 'ProtoStar, Inc., a Delaware Corporation'\n",
      " 'Zooey Chi-Tien Chu,Douglas Pan' 'Kathleen Cox,Thomas Cox' 'Nevro Corp.'\n",
      " 'MOBILITY DESIGNED, LLC' 'Nami Khademhosseini' 'Jeffrey S. McMichael'\n",
      " 'Protostar, Inc.' 'Debbie Joles,Chad Morgan,Sandeep Kumar'\n",
      " 'Disco Drives Kirschey' 'Wichita State University' 'Cedomir Capic'\n",
      " 'Parker-Hannifin Corporation'\n",
      " 'THE BOARD OF TRUSTEES OF THE UNIVERSITY OF ALABAMA' 'Ray Winn'\n",
      " 'Xiaohui Gao' 'John McAteer' 'MOBILITY DESIGNED, INC.' 'Emilia M. Demeo'\n",
      " 'Bonnie Deckard' 'Jacob Benford' 'Brandbumps, LLC' 'Frank Gomez'\n",
      " 'IKUTUKI' 'William Hood English,Norman Earl Smith, II'\n",
      " 'Joint Project Limited' 'Michael Hale' 'Carmelo Roman'\n",
      " 'Tata Consultancy Services Limited']\n"
     ]
    }
   ],
   "source": [
    "people = df['출원인'].unique()\n",
    "print(people)"
   ]
  },
  {
   "cell_type": "code",
   "execution_count": 12,
   "metadata": {},
   "outputs": [
    {
     "name": "stdout",
     "output_type": "stream",
     "text": [
      "[1975 1985 1986 1989 1990 1992 1993 1994 1996 1997 1998 1999 2005 2006\n",
      " 2007 2008 2009 2010 2011 2013 2015 2016 2017 2018 2019 2020 2021 2022\n",
      " 2023]\n"
     ]
    }
   ],
   "source": [
    "year = df['등록일자'].unique()\n",
    "print(year)"
   ]
  },
  {
   "cell_type": "code",
   "execution_count": 13,
   "metadata": {
    "id": "v1aLmJou0cvO"
   },
   "outputs": [],
   "source": [
    "def clean_sentence(sentence):\n",
    "    # 정규표현식을 사용하여 쉼표를 제외한 모든 문자 제거\n",
    "    result = re.sub(r'[^a-zA-Z]', '', sentence)\n",
    "\n",
    "    # 모든 대문자를 소문자로 변환\n",
    "    result = result.lower()\n",
    "\n",
    "    return result"
   ]
  },
  {
   "cell_type": "code",
   "execution_count": 14,
   "metadata": {
    "colab": {
     "base_uri": "https://localhost:8080/",
     "height": 528
    },
    "id": "d-60F76B0gV6",
    "outputId": "990e0a70-3f0e-43e5-da58-0bc45e0e1724"
   },
   "outputs": [
    {
     "data": {
      "image/png": "[encoded data removed]",
      "text/plain": [
       "<Figure size 1000x600 with 1 Axes>"
      ]
     },
     "metadata": {},
     "output_type": "display_data"
    }
   ],
   "source": [
    "# 출원인별 출원건수 계산\n",
    "top10_all = df['출원인'].value_counts().nlargest(10)\n",
    "\n",
    "# 시각화\n",
    "fig, ax = plt.subplots(figsize=(10, 6))\n",
    "\n",
    "# 바 그래프 그리기\n",
    "bars = ax.bar(top10_all.index, top10_all.values, color='skyblue')\n",
    "\n",
    "# 출원인 이름 세로로 회전시키기\n",
    "ax.set_xticks(range(len(top10_all)))\n",
    "ax.set_xticklabels(top10_all.index, rotation=90, ha='center')\n",
    "\n",
    "# 각 바 위에 숫자 표시\n",
    "for bar in bars:\n",
    "    yval = bar.get_height()\n",
    "    plt.text(bar.get_x() + bar.get_width()/2, yval, int(yval), ha='center', va='bottom')\n",
    "\n",
    "ax.set_xlabel('people')\n",
    "ax.set_ylabel('numbers of data')\n",
    "ax.set_title('top 10 people')\n",
    "plt.show()"
   ]
  },
  {
   "cell_type": "code",
   "execution_count": 15,
   "metadata": {
    "id": "kzm5ulkm0pdc"
   },
   "outputs": [
    {
     "data": {
      "image/png": "[encoded data removed]",
      "text/plain": [
       "<Figure size 1000x600 with 1 Axes>"
      ]
     },
     "metadata": {},
     "output_type": "display_data"
    }
   ],
   "source": [
    "# 년도별 등록건수 계산\n",
    "applications_by_year = df['등록일자'].value_counts().sort_index()\n",
    "\n",
    "# 시각화\n",
    "fig, ax = plt.subplots(figsize=(10, 6))\n",
    "\n",
    "# 점 찍고 선으로 연결하는 그래프\n",
    "ax.plot(applications_by_year.index, applications_by_year.values, marker='o', linestyle='-')\n",
    "\n",
    "ax.set_xlabel('year')\n",
    "ax.set_ylabel('number of data')\n",
    "ax.set_title('data per year')\n",
    "plt.show()"
   ]
  },
  {
   "cell_type": "code",
   "execution_count": 16,
   "metadata": {
    "colab": {
     "base_uri": "https://localhost:8080/",
     "height": 663
    },
    "id": "WwVjfW-c0y2i",
    "outputId": "c47bb807-cb99-4250-93a9-dd5e6a220477"
   },
   "outputs": [
    {
     "data": {
      "text/html": [
       "<div>\n",
       "<style scoped>\n",
       "    .dataframe tbody tr th:only-of-type {\n",
       "        vertical-align: middle;\n",
       "    }\n",
       "\n",
       "    .dataframe tbody tr th {\n",
       "        vertical-align: top;\n",
       "    }\n",
       "\n",
       "    .dataframe thead th {\n",
       "        text-align: right;\n",
       "    }\n",
       "</style>\n",
       "<table border=\"1\" class=\"dataframe\">\n",
       "  <thead>\n",
       "    <tr style=\"text-align: right;\">\n",
       "      <th></th>\n",
       "      <th>출원번호</th>\n",
       "      <th>출원일자</th>\n",
       "      <th>공고일자</th>\n",
       "      <th>등록일자</th>\n",
       "      <th>발명의명칭</th>\n",
       "      <th>IPC분류</th>\n",
       "      <th>출원인</th>\n",
       "    </tr>\n",
       "    <tr>\n",
       "      <th>국가</th>\n",
       "      <th></th>\n",
       "      <th></th>\n",
       "      <th></th>\n",
       "      <th></th>\n",
       "      <th></th>\n",
       "      <th></th>\n",
       "      <th></th>\n",
       "    </tr>\n",
       "  </thead>\n",
       "  <tbody>\n",
       "    <tr>\n",
       "      <th>US</th>\n",
       "      <td>5372179</td>\n",
       "      <td>1973.6.21</td>\n",
       "      <td>1975.2.25</td>\n",
       "      <td>1975</td>\n",
       "      <td>auxiliary ski for physically handicapped persons</td>\n",
       "      <td>A63C11/22</td>\n",
       "      <td>nippon gakki seizo kabushiki kaisha</td>\n",
       "    </tr>\n",
       "    <tr>\n",
       "      <th>US</th>\n",
       "      <td>6454985</td>\n",
       "      <td>1983.1.3</td>\n",
       "      <td>1985.4.9</td>\n",
       "      <td>1985</td>\n",
       "      <td>height adjustable crutch</td>\n",
       "      <td>A61H3/02</td>\n",
       "      <td>guardian products company, inc.</td>\n",
       "    </tr>\n",
       "    <tr>\n",
       "      <th>US</th>\n",
       "      <td>6402594</td>\n",
       "      <td>1982.7.28</td>\n",
       "      <td>1985.4.16</td>\n",
       "      <td>1985</td>\n",
       "      <td>resilient support foot for walking aids, parti...</td>\n",
       "      <td>A45B9/04</td>\n",
       "      <td>s  f orthopadietechnik gmbh</td>\n",
       "    </tr>\n",
       "    <tr>\n",
       "      <th>US</th>\n",
       "      <td>6472968</td>\n",
       "      <td>1983.3.7</td>\n",
       "      <td>1985.7.9</td>\n",
       "      <td>1985</td>\n",
       "      <td>cane</td>\n",
       "      <td>A45B9/00,F16C11/10</td>\n",
       "      <td>knotter david g.</td>\n",
       "    </tr>\n",
       "    <tr>\n",
       "      <th>US</th>\n",
       "      <td>6438052</td>\n",
       "      <td>1982.11.1</td>\n",
       "      <td>1985.11.5</td>\n",
       "      <td>1985</td>\n",
       "      <td>sonic rangingdetection system employing varied...</td>\n",
       "      <td>G01S15/14,G01S7/52</td>\n",
       "      <td>polaroid corporation</td>\n",
       "    </tr>\n",
       "    <tr>\n",
       "      <th>...</th>\n",
       "      <td>...</td>\n",
       "      <td>...</td>\n",
       "      <td>...</td>\n",
       "      <td>...</td>\n",
       "      <td>...</td>\n",
       "      <td>...</td>\n",
       "      <td>...</td>\n",
       "    </tr>\n",
       "    <tr>\n",
       "      <th>US</th>\n",
       "      <td>15119403</td>\n",
       "      <td>2015.3.31</td>\n",
       "      <td>2020.1.21</td>\n",
       "      <td>2020</td>\n",
       "      <td>wearable robotic device</td>\n",
       "      <td>A61F5/01,A61H3/00,A61H1/02,B25J9/00,B25J9/10</td>\n",
       "      <td>parkerhannifin corporation</td>\n",
       "    </tr>\n",
       "    <tr>\n",
       "      <th>US</th>\n",
       "      <td>16367406</td>\n",
       "      <td>2019.3.28</td>\n",
       "      <td>2020.6.2</td>\n",
       "      <td>2020</td>\n",
       "      <td>motorized robotic walker guided by an image pr...</td>\n",
       "      <td>A61H3/04,G05D1/02,B60L50/52</td>\n",
       "      <td>the board of trustees of the university of ala...</td>\n",
       "    </tr>\n",
       "    <tr>\n",
       "      <th>US</th>\n",
       "      <td>16471276</td>\n",
       "      <td>2019.3.6</td>\n",
       "      <td>2021.9.7</td>\n",
       "      <td>2021</td>\n",
       "      <td>illuminated walking assistance apparatus</td>\n",
       "      <td>A45B3/04,A45B9/02,F21L4/08,F21V9/08,F21V23/04,...</td>\n",
       "      <td>ray winn</td>\n",
       "    </tr>\n",
       "    <tr>\n",
       "      <th>US</th>\n",
       "      <td>17142542</td>\n",
       "      <td>2021.1.6</td>\n",
       "      <td>2021.9.7</td>\n",
       "      <td>2021</td>\n",
       "      <td>illuminated walking assistance apparatus</td>\n",
       "      <td>A45B3/04,A61H3/00,F21V23/04,F21V9/08,A45B9/00</td>\n",
       "      <td>ray winn</td>\n",
       "    </tr>\n",
       "    <tr>\n",
       "      <th>US</th>\n",
       "      <td>16360724</td>\n",
       "      <td>2019.3.21</td>\n",
       "      <td>2021.9.7</td>\n",
       "      <td>2021</td>\n",
       "      <td>wearable robotic device</td>\n",
       "      <td>A61H3/00,A61H1/02,B25J9/00,A61F5/01,B25J9/10</td>\n",
       "      <td>parkerhannifin corporation</td>\n",
       "    </tr>\n",
       "  </tbody>\n",
       "</table>\n",
       "<p>100 rows × 7 columns</p>\n",
       "</div>"
      ],
      "text/plain": [
       "        출원번호       출원일자       공고일자  등록일자  \\\n",
       "국가                                         \n",
       "US   5372179  1973.6.21  1975.2.25  1975   \n",
       "US   6454985   1983.1.3   1985.4.9  1985   \n",
       "US   6402594  1982.7.28  1985.4.16  1985   \n",
       "US   6472968   1983.3.7   1985.7.9  1985   \n",
       "US   6438052  1982.11.1  1985.11.5  1985   \n",
       "..       ...        ...        ...   ...   \n",
       "US  15119403  2015.3.31  2020.1.21  2020   \n",
       "US  16367406  2019.3.28   2020.6.2  2020   \n",
       "US  16471276   2019.3.6   2021.9.7  2021   \n",
       "US  17142542   2021.1.6   2021.9.7  2021   \n",
       "US  16360724  2019.3.21   2021.9.7  2021   \n",
       "\n",
       "                                                발명의명칭  \\\n",
       "국가                                                      \n",
       "US   auxiliary ski for physically handicapped persons   \n",
       "US                           height adjustable crutch   \n",
       "US  resilient support foot for walking aids, parti...   \n",
       "US                                               cane   \n",
       "US  sonic rangingdetection system employing varied...   \n",
       "..                                                ...   \n",
       "US                            wearable robotic device   \n",
       "US  motorized robotic walker guided by an image pr...   \n",
       "US           illuminated walking assistance apparatus   \n",
       "US           illuminated walking assistance apparatus   \n",
       "US                            wearable robotic device   \n",
       "\n",
       "                                                IPC분류  \\\n",
       "국가                                                      \n",
       "US                                          A63C11/22   \n",
       "US                                           A61H3/02   \n",
       "US                                           A45B9/04   \n",
       "US                                 A45B9/00,F16C11/10   \n",
       "US                                 G01S15/14,G01S7/52   \n",
       "..                                                ...   \n",
       "US       A61F5/01,A61H3/00,A61H1/02,B25J9/00,B25J9/10   \n",
       "US                        A61H3/04,G05D1/02,B60L50/52   \n",
       "US  A45B3/04,A45B9/02,F21L4/08,F21V9/08,F21V23/04,...   \n",
       "US      A45B3/04,A61H3/00,F21V23/04,F21V9/08,A45B9/00   \n",
       "US       A61H3/00,A61H1/02,B25J9/00,A61F5/01,B25J9/10   \n",
       "\n",
       "                                                  출원인  \n",
       "국가                                                     \n",
       "US                nippon gakki seizo kabushiki kaisha  \n",
       "US                    guardian products company, inc.  \n",
       "US                        s  f orthopadietechnik gmbh  \n",
       "US                                   knotter david g.  \n",
       "US                               polaroid corporation  \n",
       "..                                                ...  \n",
       "US                         parkerhannifin corporation  \n",
       "US  the board of trustees of the university of ala...  \n",
       "US                                           ray winn  \n",
       "US                                           ray winn  \n",
       "US                         parkerhannifin corporation  \n",
       "\n",
       "[100 rows x 7 columns]"
      ]
     },
     "execution_count": 16,
     "metadata": {},
     "output_type": "execute_result"
    }
   ],
   "source": [
    "# \"발명의 명칭\" 열의 데이터 정제\n",
    "df['발명의명칭'] = df['발명의명칭'].str.lower().replace('[^a-z,.\\s]', '', regex=True)\n",
    "\n",
    "# \"출원인\" 열의 데이터 정제\n",
    "df['출원인'] = df['출원인'].str.lower().replace('[^a-z,.\\s]', '', regex=True)\n",
    "\n",
    "# 결과 출력\n",
    "df.head(100)\n"
   ]
  },
  {
   "cell_type": "code",
   "execution_count": 17,
   "metadata": {
    "id": "lFN3rQkIYwkb"
   },
   "outputs": [],
   "source": [
    "# 세대별로 데이터프레임 분할\n",
    "df_1G = df[(df['등록일자'] > 1950) & (df['등록일자'] <= 2000)]\n",
    "df_2G = df[(df['등록일자'] > 2000) & (df['등록일자'] <= 2023)]"
   ]
  },
  {
   "cell_type": "code",
   "execution_count": 18,
   "metadata": {
    "colab": {
     "base_uri": "https://localhost:8080/",
     "height": 472
    },
    "id": "qPlFPLXempd7",
    "outputId": "e7b03523-3662-4a5d-a3a2-8af88cad8e56"
   },
   "outputs": [
    {
     "data": {
      "image/png": "[encoded data removed]",
      "text/plain": [
       "<Figure size 640x480 with 1 Axes>"
      ]
     },
     "metadata": {},
     "output_type": "display_data"
    }
   ],
   "source": [
    "patent_counts = [len(df_1G), len(df_2G)]\n",
    "generations = ['1Generation', '2Generation']\n",
    "\n",
    "# 세대별 특허 갯수 추이 그래프 그리기\n",
    "plt.plot(generations, patent_counts, marker='o')\n",
    "plt.xlabel('Generation')\n",
    "plt.ylabel('Number of Patents')\n",
    "plt.title('Number of Patents by Generation')\n",
    "plt.show()\n"
   ]
  },
  {
   "cell_type": "code",
   "execution_count": 27,
   "metadata": {
    "id": "VmzC8t9EuPWm"
   },
   "outputs": [],
   "source": [
    "from gensim import corpora, models\n",
    "from nltk.corpus import stopwords\n",
    "from nltk.tokenize import word_tokenize\n",
    "from nltk.stem import WordNetLemmatizer"
   ]
  },
  {
   "cell_type": "code",
   "execution_count": 38,
   "metadata": {
    "colab": {
     "base_uri": "https://localhost:8080/"
    },
    "id": "0MPP_6_9tuVm",
    "outputId": "8fa8ca89-8307-42d9-c6e9-f2229515d23f"
   },
   "outputs": [],
   "source": [
    "import nltk\n",
    "\n",
    "stop_words = stopwords.words('english')\n",
    "tokenized_doc1 = df_1G['발명의명칭'].apply(lambda x : x.split())\n",
    "tokenized_doc2 = df_2G['발명의명칭'].apply(lambda x : x.split())\n",
    "stpwrd = ['system', 'methods', 'pain', 'apparatus', 'method', 'systems','device','cane','walking','crutch','walker',\n",
    "          'assistance','associated','crutches','leg','support','ski','tip','attachment','children','aid'\n",
    "          ,'hand','varied','employing','wheelchair','orthopedic','aids','foot','use','english','devices',\n",
    "          'impaired','clamp','particularly','stick','handicapped']\n",
    "stop_words.extend(stpwrd)\n",
    "tokenized_doc1 = tokenized_doc1.apply(lambda x : [item for item in x\n",
    "                            if item not in stop_words])\n",
    "tokenized_doc2 = tokenized_doc2.apply(lambda x : [item for item in x\n",
    "                            if item not in stop_words])\n"
   ]
  },
  {
   "cell_type": "code",
   "execution_count": 73,
   "metadata": {},
   "outputs": [
    {
     "name": "stdout",
     "output_type": "stream",
     "text": [
      "가장 많이 나온 단어 (df):\n",
      "adjustable: 7 건\n",
      "robotic: 7 건\n",
      "wheeled: 6 건\n",
      "collapsible: 5 건\n",
      "grasping: 3 건\n",
      "safety: 3 건\n",
      "base: 3 건\n",
      "handsfree: 3 건\n",
      "upright: 3 건\n",
      "mobility: 3 건\n",
      "illuminated: 3 건\n",
      "height: 2 건\n",
      "audible: 2 건\n",
      "foldable: 2 건\n",
      "exercise: 2 건\n",
      "enhancing: 2 건\n",
      "assist: 2 건\n",
      "assembly: 2 건\n",
      "lower: 2 건\n",
      "warning: 2 건\n"
     ]
    }
   ],
   "source": [
    "from collections import Counter\n",
    "\n",
    "stop_words = stopwords.words('english')\n",
    "tokenized_doc = df['발명의명칭'].apply(lambda x : x.split())\n",
    "stpwrd = ['system', 'methods', 'pain', 'apparatus', 'method', 'systems','device','cane','walking','crutch','walker',\n",
    "          'assistance','associated','crutches','leg','support','ski','tip','attachment','children','aid'\n",
    "          ,'hand','varied','employing','wheelchair','orthopedic','aids','foot','use','english','devices',\n",
    "          'impaired','clamp','particularly','stick','handicapped']\n",
    "stop_words.extend(stpwrd)\n",
    "tokenized_doc = tokenized_doc.apply(lambda x : [item for item in x\n",
    "                            if item not in stop_words])\n",
    "\n",
    "\n",
    "# 각 문서에서 단어 빈도를 계산\n",
    "word_freq = Counter([word for text in tokenized_doc for word in text])\n",
    "\n",
    "# 가장 많이 나온 단어 순으로 정렬\n",
    "top_words = word_freq.most_common(20)  # 상위 20개의 단어\n",
    "\n",
    "# 결과 출력\n",
    "print(\"가장 많이 나온 단어 (df):\")\n",
    "for word, count in top_words:\n",
    "    print(f\"{word}: {count} 건\")"
   ]
  },
  {
   "cell_type": "code",
   "execution_count": 64,
   "metadata": {
    "id": "W6rgmfxIt2VI"
   },
   "outputs": [],
   "source": [
    "# 말뭉치 단어 사전 생성\n",
    "from gensim import corpora\n",
    "dic1 = corpora.Dictionary(tokenized_doc1)\n",
    "corpus1 = [dic1.doc2bow(text) for text in tokenized_doc1]\n",
    "dic2 = corpora.Dictionary(tokenized_doc2)\n",
    "corpus2 = [dic2.doc2bow(text) for text in tokenized_doc2]"
   ]
  },
  {
   "cell_type": "code",
   "execution_count": 78,
   "metadata": {},
   "outputs": [],
   "source": [
    "import gensim\n",
    "\n",
    "#1세대 모델 최적화\n",
    "perplexity_values = []\n",
    "for i in range(2,15):\n",
    "    ldamodel = gensim.models.ldamodel.LdaModel(corpus=corpus1, num_topics=i, id2word=dic1)\n",
    "    perplexity_values.append(ldamodel.log_perplexity(corpus1))"
   ]
  },
  {
   "cell_type": "code",
   "execution_count": 79,
   "metadata": {},
   "outputs": [
    {
     "data": {
      "image/png": "[encoded data removed]",
      "text/plain": [
       "<Figure size 640x480 with 1 Axes>"
      ]
     },
     "metadata": {},
     "output_type": "display_data"
    }
   ],
   "source": [
    "x = range(2,15)\n",
    "plt.plot(x, perplexity_values)\n",
    "plt.xlabel(\"number of topics\")\n",
    "plt.ylabel(\"perplextiy score\")\n",
    "plt.show()"
   ]
  },
  {
   "cell_type": "code",
   "execution_count": 80,
   "metadata": {},
   "outputs": [],
   "source": [
    "from gensim.models import CoherenceModel\n",
    "\n",
    "coherence_values = []\n",
    "for i in range(2,15):\n",
    "    ldamodel = gensim.models.ldamodel.LdaModel(corpus=corpus1, num_topics=i, id2word=dic1)\n",
    "    coherence_model_lda = CoherenceModel(model=ldamodel, texts=tokenized_doc1, dictionary=dic1, topn=10)\n",
    "    coherence_lda = coherence_model_lda.get_coherence()\n",
    "    coherence_values.append(coherence_lda)"
   ]
  },
  {
   "cell_type": "code",
   "execution_count": 81,
   "metadata": {},
   "outputs": [
    {
     "data": {
      "image/png": "[encoded data removed]",
      "text/plain": [
       "<Figure size 640x480 with 1 Axes>"
      ]
     },
     "metadata": {},
     "output_type": "display_data"
    }
   ],
   "source": [
    "x = range(2,15)\n",
    "plt.plot(x, coherence_values)\n",
    "plt.xlabel(\"number of topics\")\n",
    "plt.ylabel(\"coherence score\")\n",
    "plt.show()"
   ]
  },
  {
   "cell_type": "code",
   "execution_count": 86,
   "metadata": {},
   "outputs": [
    {
     "data": {
      "text/plain": [
       "[(0,\n",
       "  '0.078*\"function\" + 0.078*\"including\" + 0.078*\"elements\" + 0.078*\"enhancing\" + 0.078*\"safety\"'),\n",
       " (1,\n",
       "  '0.090*\"uprisal\" + 0.090*\"assist\" + 0.090*\"dual\" + 0.090*\"handled\" + 0.090*\"grasping\"'),\n",
       " (2,\n",
       "  '0.021*\"wheeled\" + 0.021*\"grasping\" + 0.021*\"stickshaped\" + 0.021*\"type\" + 0.021*\"collapsible\"'),\n",
       " (3,\n",
       "  '0.090*\"resistance\" + 0.090*\"backward\" + 0.090*\"frontentry\" + 0.090*\"motion\" + 0.090*\"foldable\"'),\n",
       " (4,\n",
       "  '0.090*\"alarm\" + 0.090*\"projection\" + 0.090*\"lamp\" + 0.090*\"audible\" + 0.090*\"height\"'),\n",
       " (5,\n",
       "  '0.119*\"adjustable\" + 0.119*\"grip\" + 0.119*\"stowable\" + 0.119*\"combined\" + 0.012*\"type\"'),\n",
       " (6,\n",
       "  '0.133*\"vehicles\" + 0.133*\"antitheft\" + 0.133*\"automotive\" + 0.013*\"wheeled\" + 0.013*\"type\"'),\n",
       " (7,\n",
       "  '0.158*\"collapsible\" + 0.083*\"beamwidth\" + 0.083*\"rangingdetection\" + 0.083*\"auxiliary\" + 0.083*\"sonic\"'),\n",
       " (8,\n",
       "  '0.108*\"mobilityparticularly\" + 0.108*\"exercise\" + 0.108*\"propelled\" + 0.108*\"occupant\" + 0.108*\"therapy,\"')]"
      ]
     },
     "execution_count": 86,
     "metadata": {},
     "output_type": "execute_result"
    }
   ],
   "source": [
    "#1세대\n",
    "num_topics = 9\n",
    "ldamodel = gensim.models.ldamodel.LdaModel(corpus=corpus1, num_topics=num_topics, id2word=dic1, passes=30, iterations=400)\n",
    "ldamodel.print_topics(num_words=5)"
   ]
  },
  {
   "cell_type": "code",
   "execution_count": 87,
   "metadata": {},
   "outputs": [],
   "source": [
    "import pyLDAvis\n",
    "import pyLDAvis.gensim\n",
    "\n",
    "vis = pyLDAvis.gensim.prepare(ldamodel, corpus1, dic1, sort_topics = False)\n",
    "pyLDAvis.save_html(vis, \"/Users/sunghyun/Desktop/lda.html\")"
   ]
  },
  {
   "cell_type": "code",
   "execution_count": 88,
   "metadata": {},
   "outputs": [],
   "source": [
    "#2세대 모델 최적화\n",
    "\n",
    "perplexity_values = []\n",
    "for i in range(2,15):\n",
    "    ldamodel = gensim.models.ldamodel.LdaModel(corpus=corpus2, num_topics=i, id2word=dic2)\n",
    "    perplexity_values.append(ldamodel.log_perplexity(corpus2))"
   ]
  },
  {
   "cell_type": "code",
   "execution_count": 89,
   "metadata": {},
   "outputs": [
    {
     "data": {
      "image/png": "[encoded data removed]",
      "text/plain": [
       "<Figure size 640x480 with 1 Axes>"
      ]
     },
     "metadata": {},
     "output_type": "display_data"
    }
   ],
   "source": [
    "x = range(2,15)\n",
    "plt.plot(x, perplexity_values)\n",
    "plt.xlabel(\"number of topics\")\n",
    "plt.ylabel(\"perplextiy score\")\n",
    "plt.show()"
   ]
  },
  {
   "cell_type": "code",
   "execution_count": 90,
   "metadata": {},
   "outputs": [],
   "source": [
    "coherence_values = []\n",
    "for i in range(2,15):\n",
    "    ldamodel = gensim.models.ldamodel.LdaModel(corpus=corpus2, num_topics=i, id2word=dic2)\n",
    "    coherence_model_lda = CoherenceModel(model=ldamodel, texts=tokenized_doc2, dictionary=dic2, topn=10)\n",
    "    coherence_lda = coherence_model_lda.get_coherence()\n",
    "    coherence_values.append(coherence_lda)"
   ]
  },
  {
   "cell_type": "code",
   "execution_count": 91,
   "metadata": {},
   "outputs": [
    {
     "data": {
      "image/png": "[encoded data removed]",
      "text/plain": [
       "<Figure size 640x480 with 1 Axes>"
      ]
     },
     "metadata": {},
     "output_type": "display_data"
    }
   ],
   "source": [
    "x = range(2,15)\n",
    "plt.plot(x, coherence_values)\n",
    "plt.xlabel(\"number of topics\")\n",
    "plt.ylabel(\"coherence score\")\n",
    "plt.show()"
   ]
  },
  {
   "cell_type": "code",
   "execution_count": 100,
   "metadata": {
    "colab": {
     "base_uri": "https://localhost:8080/"
    },
    "id": "QBeCv-umOc3Z",
    "outputId": "c8bc1108-25f1-49ce-8f06-8ca6c02ac0ad"
   },
   "outputs": [
    {
     "data": {
      "text/plain": [
       "[(0,\n",
       "  '0.041*\"inhibiting\" + 0.041*\"modulation\" + 0.041*\"frequency\" + 0.041*\"high\" + 0.041*\"cord\"'),\n",
       " (1,\n",
       "  '0.061*\"energy\" + 0.031*\"visually\" + 0.031*\"composite\" + 0.031*\"fiber\" + 0.031*\"custom\"'),\n",
       " (2,\n",
       "  '0.039*\"smart\" + 0.039*\"warning\" + 0.039*\"tactile\" + 0.039*\"technology\" + 0.039*\"panel\"'),\n",
       " (3,\n",
       "  '0.062*\"base\" + 0.062*\"tripod\" + 0.062*\"mount\" + 0.062*\"staff\" + 0.062*\"adaptable\"'),\n",
       " (4,\n",
       "  '0.039*\"obstacle\" + 0.039*\"avoidance\" + 0.039*\"based\" + 0.039*\"machine\" + 0.039*\"vision\"'),\n",
       " (5,\n",
       "  '0.159*\"robotic\" + 0.054*\"wearable\" + 0.028*\"automated\" + 0.028*\"beacon\" + 0.028*\"wayfinding\"'),\n",
       " (6,\n",
       "  '0.070*\"stair\" + 0.070*\"assist\" + 0.070*\"multifunctional\" + 0.005*\"movable\" + 0.005*\"active\"'),\n",
       " (7,\n",
       "  '0.122*\"adjustable\" + 0.082*\"gait\" + 0.043*\"movable\" + 0.043*\"analysis\" + 0.043*\"seat\"'),\n",
       " (8,\n",
       "  '0.046*\"robotic\" + 0.046*\"motorized\" + 0.046*\"image\" + 0.046*\"human\" + 0.046*\"guided\"'),\n",
       " (9,\n",
       "  '0.144*\"wheeled\" + 0.144*\"upright\" + 0.144*\"collapsible\" + 0.004*\"inflatable\" + 0.004*\"active\"'),\n",
       " (10,\n",
       "  '0.061*\"portable\" + 0.061*\"wheels\" + 0.061*\"safety\" + 0.031*\"shock\" + 0.031*\"absorbing\"'),\n",
       " (11,\n",
       "  '0.064*\"adjustable\" + 0.033*\"grasping\" + 0.033*\"magnetic\" + 0.033*\"selfstanding\" + 0.033*\"hanging\"'),\n",
       " (12,\n",
       "  '0.071*\"illuminated\" + 0.071*\"handsfree\" + 0.037*\"folding\" + 0.037*\"thandle\" + 0.037*\"table\"')]"
      ]
     },
     "execution_count": 100,
     "metadata": {},
     "output_type": "execute_result"
    }
   ],
   "source": [
    "#2세대\n",
    "num_topics = 13\n",
    "ldamodel = gensim.models.ldamodel.LdaModel(corpus=corpus2, num_topics=num_topics, id2word=dic2, passes=30, iterations=400)\n",
    "ldamodel.print_topics(num_words=5)"
   ]
  },
  {
   "cell_type": "code",
   "execution_count": 101,
   "metadata": {},
   "outputs": [],
   "source": [
    "import pyLDAvis\n",
    "import pyLDAvis.gensim\n",
    "\n",
    "vis = pyLDAvis.gensim.prepare(ldamodel, corpus2, dic2, sort_topics = False)\n",
    "pyLDAvis.save_html(vis, \"/Users/sunghyun/Desktop/lda1.html\")"
   ]
  },
  {
   "cell_type": "code",
   "execution_count": 102,
   "metadata": {
    "id": "m8tdLz7RiGio"
   },
   "outputs": [],
   "source": [
    "from collections import Counter"
   ]
  },
  {
   "cell_type": "code",
   "execution_count": 103,
   "metadata": {
    "id": "iK5QH5MDiNai"
   },
   "outputs": [],
   "source": [
    "# %%\n",
    "cpDf = df.copy()\n",
    "\n",
    "cpDf\n",
    "\n",
    "#cpDf['세대'] = np.where(cpDf['출원일자'] >= 1928,\n",
    "#               np.where(cpDf['출원일자'] > 1980,\n",
    "#               np.where(cpDf['출원일자'] > 2000,\n",
    "#               np.where(cpDf['출원일자'] > 2010, '4세대', '3세대'), '2세대'), '1세대'), np.nan)\n",
    "\n",
    "cpDf['세대'] = np.where(cpDf['등록일자'] <= 2000, '1세대', '2세대')"
   ]
  },
  {
   "cell_type": "code",
   "execution_count": 104,
   "metadata": {
    "colab": {
     "base_uri": "https://localhost:8080/",
     "height": 455
    },
    "id": "2VABPe93hgQp",
    "outputId": "e8b38561-aa95-4b79-8d95-9be9bc409fc4"
   },
   "outputs": [
    {
     "data": {
      "text/html": [
       "<div>\n",
       "<style scoped>\n",
       "    .dataframe tbody tr th:only-of-type {\n",
       "        vertical-align: middle;\n",
       "    }\n",
       "\n",
       "    .dataframe tbody tr th {\n",
       "        vertical-align: top;\n",
       "    }\n",
       "\n",
       "    .dataframe thead th {\n",
       "        text-align: right;\n",
       "    }\n",
       "</style>\n",
       "<table border=\"1\" class=\"dataframe\">\n",
       "  <thead>\n",
       "    <tr style=\"text-align: right;\">\n",
       "      <th></th>\n",
       "      <th></th>\n",
       "      <th>IPC분류</th>\n",
       "    </tr>\n",
       "    <tr>\n",
       "      <th>세대</th>\n",
       "      <th></th>\n",
       "      <th></th>\n",
       "    </tr>\n",
       "  </thead>\n",
       "  <tbody>\n",
       "    <tr>\n",
       "      <th rowspan=\"5\" valign=\"top\">1세대</th>\n",
       "      <th>A63C11</th>\n",
       "      <td>1</td>\n",
       "    </tr>\n",
       "    <tr>\n",
       "      <th>A61H3</th>\n",
       "      <td>8</td>\n",
       "    </tr>\n",
       "    <tr>\n",
       "      <th>A45B9</th>\n",
       "      <td>5</td>\n",
       "    </tr>\n",
       "    <tr>\n",
       "      <th>F16C11</th>\n",
       "      <td>1</td>\n",
       "    </tr>\n",
       "    <tr>\n",
       "      <th>G01S15</th>\n",
       "      <td>1</td>\n",
       "    </tr>\n",
       "    <tr>\n",
       "      <th>...</th>\n",
       "      <th>...</th>\n",
       "      <td>...</td>\n",
       "    </tr>\n",
       "    <tr>\n",
       "      <th rowspan=\"5\" valign=\"top\">2세대</th>\n",
       "      <th>E01C5</th>\n",
       "      <td>5</td>\n",
       "    </tr>\n",
       "    <tr>\n",
       "      <th>G08B6</th>\n",
       "      <td>1</td>\n",
       "    </tr>\n",
       "    <tr>\n",
       "      <th>H02G9</th>\n",
       "      <td>2</td>\n",
       "    </tr>\n",
       "    <tr>\n",
       "      <th>F21V3</th>\n",
       "      <td>1</td>\n",
       "    </tr>\n",
       "    <tr>\n",
       "      <th>G06V20</th>\n",
       "      <td>1</td>\n",
       "    </tr>\n",
       "  </tbody>\n",
       "</table>\n",
       "<p>146 rows × 1 columns</p>\n",
       "</div>"
      ],
      "text/plain": [
       "            IPC분류\n",
       "세대               \n",
       "1세대 A63C11      1\n",
       "    A61H3       8\n",
       "    A45B9       5\n",
       "    F16C11      1\n",
       "    G01S15      1\n",
       "...           ...\n",
       "2세대 E01C5       5\n",
       "    G08B6       1\n",
       "    H02G9       2\n",
       "    F21V3       1\n",
       "    G06V20      1\n",
       "\n",
       "[146 rows x 1 columns]"
      ]
     },
     "execution_count": 104,
     "metadata": {},
     "output_type": "execute_result"
    }
   ],
   "source": [
    "word_counts = Counter()\n",
    "\n",
    "for text in cpDf['IPC분류']:\n",
    "    words = [word.split('/')[0].strip() for word in text.replace(',', ' ').split()]\n",
    "    word_counts.update(words)\n",
    "\n",
    "\n",
    "word_counts\n",
    "\n",
    "# %%\n",
    "grouped_word_counts = cpDf.groupby('세대')['IPC분류'].apply(lambda x: Counter([word.split('/')[0].strip() for text in x for word in text.replace(',', ' ').split()]))\n",
    "\n",
    "grouped_word_counts\n",
    "\n",
    "# %%\n",
    "df_word_counts = pd.DataFrame(grouped_word_counts)\n",
    "\n",
    "df_word_counts = df_word_counts.fillna(0).astype(int)\n",
    "\n",
    "df_word_counts\n",
    "# %%\n"
   ]
  },
  {
   "cell_type": "code",
   "execution_count": null,
   "metadata": {},
   "outputs": [],
   "source": []
  },
  {
   "cell_type": "code",
   "execution_count": null,
   "metadata": {},
   "outputs": [],
   "source": []
  }
 ],
 "metadata": {
  "colab": {
   "provenance": []
  },
  "kernelspec": {
   "display_name": "Python 3 (ipykernel)",
   "language": "python",
   "name": "python3"
  },
  "language_info": {
   "codemirror_mode": {
    "name": "ipython",
    "version": 3
   },
   "file_extension": ".py",
   "mimetype": "text/x-python",
   "name": "python",
   "nbconvert_exporter": "python",
   "pygments_lexer": "ipython3",
   "version": "3.11.4"
  }
 },
 "nbformat": 4,
 "nbformat_minor": 1
}
